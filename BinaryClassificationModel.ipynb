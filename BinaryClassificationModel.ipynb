{
 "cells": [
  {
   "cell_type": "code",
   "execution_count": 18,
   "metadata": {
    "collapsed": false
   },
   "outputs": [],
   "source": [
    "# standard binary classification modelling\n",
    "import pandas as pd\n",
    "import numpy as np\n",
    "\n",
    "filename = 'train.csv'\n",
    "df_input = pd.read_csv(filename, sep=',')\n"
   ]
  },
  {
   "cell_type": "code",
   "execution_count": 19,
   "metadata": {
    "collapsed": false
   },
   "outputs": [],
   "source": [
    "# here we build the config of the file\n",
    "from sklearn.cross_validation import train_test_split\n",
    "\n",
    "identifier = ['PassengerId'] # identifier such as customer id\n",
    "target = ['Survived'] # target field\n",
    "exclude = ['Name', 'Ticket','Cabin'] # fields to exclude \n",
    "categorical = ['Sex','Embarked'] # these categorical fields get set to flag\n",
    "\n",
    "# split sample into test and training set\n",
    "# note that this split is not deterministic\n",
    "df_train, df_test = train_test_split(df_input, test_size = 0.3)\n"
   ]
  },
  {
   "cell_type": "code",
   "execution_count": 20,
   "metadata": {
    "collapsed": false
   },
   "outputs": [
    {
     "name": "stderr",
     "output_type": "stream",
     "text": [
      "/Users/roberthickling/anaconda/lib/python3.5/site-packages/pandas/core/generic.py:3178: SettingWithCopyWarning: \n",
      "A value is trying to be set on a copy of a slice from a DataFrame\n",
      "\n",
      "See the caveats in the documentation: http://pandas.pydata.org/pandas-docs/stable/indexing.html#indexing-view-versus-copy\n",
      "  self._update_inplace(new_data)\n"
     ]
    }
   ],
   "source": [
    "# This tile fills in missing values\n",
    "meanAge = df_train['Age'].mean()\n",
    "df_train['Age'].fillna(meanAge, inplace=True)\n",
    "df_test['Age'].fillna(meanAge, inplace=True)"
   ]
  },
  {
   "cell_type": "code",
   "execution_count": 21,
   "metadata": {
    "collapsed": false
   },
   "outputs": [
    {
     "data": {
      "text/html": [
       "<div>\n",
       "<table border=\"1\" class=\"dataframe\">\n",
       "  <thead>\n",
       "    <tr style=\"text-align: right;\">\n",
       "      <th></th>\n",
       "      <th>PassengerId</th>\n",
       "      <th>Survived</th>\n",
       "      <th>Pclass</th>\n",
       "      <th>Name</th>\n",
       "      <th>Sex</th>\n",
       "      <th>Age</th>\n",
       "      <th>SibSp</th>\n",
       "      <th>Parch</th>\n",
       "      <th>Ticket</th>\n",
       "      <th>Fare</th>\n",
       "      <th>Cabin</th>\n",
       "      <th>Embarked</th>\n",
       "      <th>Sex_female</th>\n",
       "      <th>Sex_male</th>\n",
       "      <th>Embarked_C</th>\n",
       "      <th>Embarked_Q</th>\n",
       "      <th>Embarked_S</th>\n",
       "    </tr>\n",
       "  </thead>\n",
       "  <tbody>\n",
       "    <tr>\n",
       "      <th>96</th>\n",
       "      <td>97</td>\n",
       "      <td>0</td>\n",
       "      <td>1</td>\n",
       "      <td>Goldschmidt, Mr. George B</td>\n",
       "      <td>male</td>\n",
       "      <td>71.0</td>\n",
       "      <td>0</td>\n",
       "      <td>0</td>\n",
       "      <td>PC 17754</td>\n",
       "      <td>34.6542</td>\n",
       "      <td>A5</td>\n",
       "      <td>C</td>\n",
       "      <td>0.0</td>\n",
       "      <td>1.0</td>\n",
       "      <td>1.0</td>\n",
       "      <td>0.0</td>\n",
       "      <td>0.0</td>\n",
       "    </tr>\n",
       "    <tr>\n",
       "      <th>662</th>\n",
       "      <td>663</td>\n",
       "      <td>0</td>\n",
       "      <td>1</td>\n",
       "      <td>Colley, Mr. Edward Pomeroy</td>\n",
       "      <td>male</td>\n",
       "      <td>47.0</td>\n",
       "      <td>0</td>\n",
       "      <td>0</td>\n",
       "      <td>5727</td>\n",
       "      <td>25.5875</td>\n",
       "      <td>E58</td>\n",
       "      <td>S</td>\n",
       "      <td>0.0</td>\n",
       "      <td>1.0</td>\n",
       "      <td>0.0</td>\n",
       "      <td>0.0</td>\n",
       "      <td>1.0</td>\n",
       "    </tr>\n",
       "    <tr>\n",
       "      <th>838</th>\n",
       "      <td>839</td>\n",
       "      <td>1</td>\n",
       "      <td>3</td>\n",
       "      <td>Chip, Mr. Chang</td>\n",
       "      <td>male</td>\n",
       "      <td>32.0</td>\n",
       "      <td>0</td>\n",
       "      <td>0</td>\n",
       "      <td>1601</td>\n",
       "      <td>56.4958</td>\n",
       "      <td>NaN</td>\n",
       "      <td>S</td>\n",
       "      <td>0.0</td>\n",
       "      <td>1.0</td>\n",
       "      <td>0.0</td>\n",
       "      <td>0.0</td>\n",
       "      <td>1.0</td>\n",
       "    </tr>\n",
       "    <tr>\n",
       "      <th>554</th>\n",
       "      <td>555</td>\n",
       "      <td>1</td>\n",
       "      <td>3</td>\n",
       "      <td>Ohman, Miss. Velin</td>\n",
       "      <td>female</td>\n",
       "      <td>22.0</td>\n",
       "      <td>0</td>\n",
       "      <td>0</td>\n",
       "      <td>347085</td>\n",
       "      <td>7.7750</td>\n",
       "      <td>NaN</td>\n",
       "      <td>S</td>\n",
       "      <td>1.0</td>\n",
       "      <td>0.0</td>\n",
       "      <td>0.0</td>\n",
       "      <td>0.0</td>\n",
       "      <td>1.0</td>\n",
       "    </tr>\n",
       "    <tr>\n",
       "      <th>208</th>\n",
       "      <td>209</td>\n",
       "      <td>1</td>\n",
       "      <td>3</td>\n",
       "      <td>Carr, Miss. Helen \"Ellen\"</td>\n",
       "      <td>female</td>\n",
       "      <td>16.0</td>\n",
       "      <td>0</td>\n",
       "      <td>0</td>\n",
       "      <td>367231</td>\n",
       "      <td>7.7500</td>\n",
       "      <td>NaN</td>\n",
       "      <td>Q</td>\n",
       "      <td>1.0</td>\n",
       "      <td>0.0</td>\n",
       "      <td>0.0</td>\n",
       "      <td>1.0</td>\n",
       "      <td>0.0</td>\n",
       "    </tr>\n",
       "  </tbody>\n",
       "</table>\n",
       "</div>"
      ],
      "text/plain": [
       "     PassengerId  Survived  Pclass                        Name     Sex   Age  \\\n",
       "96            97         0       1   Goldschmidt, Mr. George B    male  71.0   \n",
       "662          663         0       1  Colley, Mr. Edward Pomeroy    male  47.0   \n",
       "838          839         1       3             Chip, Mr. Chang    male  32.0   \n",
       "554          555         1       3          Ohman, Miss. Velin  female  22.0   \n",
       "208          209         1       3   Carr, Miss. Helen \"Ellen\"  female  16.0   \n",
       "\n",
       "     SibSp  Parch    Ticket     Fare Cabin Embarked  Sex_female  Sex_male  \\\n",
       "96       0      0  PC 17754  34.6542    A5        C         0.0       1.0   \n",
       "662      0      0      5727  25.5875   E58        S         0.0       1.0   \n",
       "838      0      0      1601  56.4958   NaN        S         0.0       1.0   \n",
       "554      0      0    347085   7.7750   NaN        S         1.0       0.0   \n",
       "208      0      0    367231   7.7500   NaN        Q         1.0       0.0   \n",
       "\n",
       "     Embarked_C  Embarked_Q  Embarked_S  \n",
       "96          1.0         0.0         0.0  \n",
       "662         0.0         0.0         1.0  \n",
       "838         0.0         0.0         1.0  \n",
       "554         0.0         0.0         1.0  \n",
       "208         0.0         1.0         0.0  "
      ]
     },
     "execution_count": 21,
     "metadata": {},
     "output_type": "execute_result"
    }
   ],
   "source": [
    "# turns categorical variables into numerical (set to flag)\n",
    "for i in range(0, len(categorical)):\n",
    "    dummy_cat_train = pd.get_dummies(df_train[categorical[i]], prefix=categorical[i])\n",
    "    dummy_cat_test = pd.get_dummies(df_test[categorical[i]], prefix=categorical[i])\n",
    "    df_train = df_train.join(dummy_cat_train)\n",
    "    df_test= df_test.join(dummy_cat_test)\n",
    "\n",
    "df_train.head(5)"
   ]
  },
  {
   "cell_type": "code",
   "execution_count": 22,
   "metadata": {
    "collapsed": true
   },
   "outputs": [],
   "source": [
    "def arrayify_data_and_target(data, label, exclude):\n",
    "    \"\"\"\n",
    "    :param data: pandas DataFrame to split in to data and target\n",
    "    :param label: name of the column to be used as dependent variable\n",
    "    :param exclude: list of columns to exclude\n",
    "    :return: (data, target, features)\n",
    "    \"\"\"\n",
    "    dependent = data[label]\n",
    "    independent = data.drop(exclude, axis=1)\n",
    "    return np.array(independent), np.array(dependent), independent.columns.values"
   ]
  },
  {
   "cell_type": "code",
   "execution_count": 23,
   "metadata": {
    "collapsed": false
   },
   "outputs": [],
   "source": [
    "# remove all the fields not required\n",
    "to_drop = exclude + target + categorical + identifier\n",
    "X_train, Y_train, features_train = arrayify_data_and_target(df_train, target, to_drop)\n",
    "X_test, Y_test, features_test = arrayify_data_and_target(df_test, target, to_drop)"
   ]
  },
  {
   "cell_type": "code",
   "execution_count": 24,
   "metadata": {
    "collapsed": false
   },
   "outputs": [],
   "source": [
    "# build the classifiers\n",
    "from sklearn.linear_model import LogisticRegression\n",
    "from sklearn.ensemble import RandomForestClassifier, AdaBoostClassifier\n",
    "from sklearn.svm import SVC\n",
    "from sklearn.tree import DecisionTreeClassifier\n",
    "\n",
    "#clf = LogisticRegression(C=1, verbose=5, max_iter=300)\n",
    "LR_balanced = LogisticRegression(C=1, class_weight='balanced', max_iter=300)\n",
    "ada = AdaBoostClassifier(n_estimators=200)\n",
    "RF = RandomForestClassifier(n_estimators=200, class_weight='balanced', max_leaf_nodes=300, max_features='auto')\n",
    "#clf = SVC(probability=True, verbose=5, class_weight='balanced')"
   ]
  },
  {
   "cell_type": "code",
   "execution_count": 25,
   "metadata": {
    "collapsed": false
   },
   "outputs": [],
   "source": [
    "# fit the model(s) then score the test set\n",
    "LR_balanced_model = LR_balanced.fit(X_train, Y_train.ravel())\n",
    "ada_model = ada.fit(X_train, Y_train.ravel())\n",
    "RF_model = RF.fit(X_train, Y_train.ravel())\n",
    "\n",
    "Y_scores_LRb = LR_balanced_model.predict_proba(X_test)[:, 1]\n",
    "Y_scores_ada = ada_model.predict_proba(X_test)[:, 1]\n",
    "Y_scores_RF = RF_model.predict_proba(X_test)[:, 1]\n"
   ]
  },
  {
   "cell_type": "code",
   "execution_count": 26,
   "metadata": {
    "collapsed": false
   },
   "outputs": [],
   "source": [
    "# create fpr and tpr for the model outputs\n",
    "from sklearn.metrics import roc_curve, auc, precision_recall_curve, confusion_matrix\n",
    "\n",
    "fpr_lrb, tpr_lrb, thresholds_lrb = roc_curve(Y_test, Y_scores_LRb)\n",
    "fpr_ada, tpr_ada, thresholds_ada = roc_curve(Y_test, Y_scores_ada)\n",
    "fpr_RF, tpr_RF, thresholds_RF = roc_curve(Y_test, Y_scores_RF)"
   ]
  },
  {
   "cell_type": "code",
   "execution_count": 28,
   "metadata": {
    "collapsed": false
   },
   "outputs": [
    {
     "data": {
      "image/png": "[encoded data removed]",
      "text/plain": [
       "<matplotlib.figure.Figure at 0x117b18160>"
      ]
     },
     "metadata": {},
     "output_type": "display_data"
    }
   ],
   "source": [
    "# Standard sklearn ROC curve\n",
    "#roc_auc=round(scores['AUC score'],3)\n",
    "%matplotlib inline\n",
    "import matplotlib.pyplot as plt\n",
    "roc_auc_lrb = auc(fpr_lrb, tpr_lrb)\n",
    "roc_auc_ada = auc(fpr_ada, tpr_ada)\n",
    "roc_auc_RF = auc(fpr_RF, tpr_RF)\n",
    "plt.figure(figsize=(12,7))\n",
    "plt.plot(fpr_lrb, tpr_lrb, label='Logistic Regression - ROC AUC: '+str(round(roc_auc_lrb,3)))\n",
    "plt.plot(fpr_ada, tpr_ada, label='Ada Boost - ROC AUC: '+str(round(roc_auc_ada,3)))\n",
    "plt.plot(fpr_RF, tpr_RF, label='Random Forest - ROC AUC: '+str(round(roc_auc_RF,3)))\n",
    "plt.plot([0, 1], [0, 1], 'k--', label='Random Selection')\n",
    "plt.grid()\n",
    "plt.xlim([0.0, 1])\n",
    "plt.ylim([0.0, 1.05])\n",
    "plt.xticks(np.arange(0, 1.1, 0.1))\n",
    "plt.yticks(np.arange(0, 1.1, 0.1))\n",
    "plt.xlabel('False Positive Rate', fontsize=20)\n",
    "plt.ylabel('True Positive Rate', fontsize=20)\n",
    "plt.legend(loc=\"lower right\", fontsize=18)\n",
    "#plt.savefig(\"ROC_Curve_latency3_devsample.pdf\")\n",
    "plt.show()\n",
    "plt.close()"
   ]
  },
  {
   "cell_type": "code",
   "execution_count": 32,
   "metadata": {
    "collapsed": false
   },
   "outputs": [
    {
     "name": "stdout",
     "output_type": "stream",
     "text": [
      "Feature: Fare Importance: 0.269499312198\n",
      "Feature: Age Importance: 0.262302730773\n",
      "Feature: Sex_female Importance: 0.157186390654\n",
      "Feature: Sex_male Importance: 0.10640188747\n",
      "Feature: Pclass Importance: 0.0731416267936\n",
      "Feature: SibSp Importance: 0.0579097008213\n",
      "Feature: Parch Importance: 0.0326256083319\n",
      "Feature: Embarked_S Importance: 0.0201891355736\n",
      "Feature: Embarked_C Importance: 0.0130304985628\n",
      "Feature: Embarked_Q Importance: 0.00771310882237\n"
     ]
    }
   ],
   "source": [
    "importances = RF_model.feature_importances_\n",
    "idxs = np.argsort(importances)[::-1]\n",
    "for i in range(len(idxs)):\n",
    "    #print >> f,(\"feature: {0} importance: {1}\".format(features[idxs[i]], importances[idxs[i]]))\n",
    "    #f.write(\"feature: {0} importance: {1}\".format(features[idxs[i]], importances[idxs[i]])+'\\n')\n",
    "    print('Feature: '+str(features_train[idxs[i]]), 'Importance: '+str(importances[idxs[i]]))"
   ]
  },
  {
   "cell_type": "code",
   "execution_count": null,
   "metadata": {
    "collapsed": true
   },
   "outputs": [],
   "source": []
  }
 ],
 "metadata": {
  "kernelspec": {
   "display_name": "Python 3",
   "language": "python",
   "name": "python3"
  },
  "language_info": {
   "codemirror_mode": {
    "name": "ipython",
    "version": 3
   },
   "file_extension": ".py",
   "mimetype": "text/x-python",
   "name": "python",
   "nbconvert_exporter": "python",
   "pygments_lexer": "ipython3",
   "version": "3.5.1"
  }
 },
 "nbformat": 4,
 "nbformat_minor": 0
}
